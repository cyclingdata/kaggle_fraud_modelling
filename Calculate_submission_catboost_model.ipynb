{
  "nbformat": 4,
  "nbformat_minor": 0,
  "metadata": {
    "colab": {
      "name": "Calculate_submission_catboost_model.ipynb",
      "provenance": [],
      "collapsed_sections": [],
      "machine_shape": "hm",
      "include_colab_link": true
    },
    "kernelspec": {
      "name": "python3",
      "display_name": "Python 3"
    }
  },
  "cells": [
    {
      "cell_type": "markdown",
      "metadata": {
        "id": "view-in-github",
        "colab_type": "text"
      },
      "source": [
        "<a href=\"https://colab.research.google.com/github/cyclingdata/kaggle_fraud_modelling/blob/master/Calculate_submission_catboost_model.ipynb\" target=\"_parent\"><img src=\"https://colab.research.google.com/assets/colab-badge.svg\" alt=\"Open In Colab\"/></a>"
      ]
    },
    {
      "cell_type": "code",
      "metadata": {
        "id": "HnHRZFw_WKNr",
        "colab_type": "code",
        "outputId": "0fc48754-fb43-460b-931a-2faa9cdc39da",
        "colab": {
          "base_uri": "https://localhost:8080/",
          "height": 1000
        }
      },
      "source": [
        "!pip install catboost shap ipywidgets sklearn\n",
        "!jupyter nbextension enable --py widgetsnbextension"
      ],
      "execution_count": 0,
      "outputs": [
        {
          "output_type": "stream",
          "text": [
            "Collecting catboost\n",
            "\u001b[?25l  Downloading https://files.pythonhosted.org/packages/20/ef/c2ce46539e7b946ae2165fb753b11e200cb8bb9319a21821222644ddc281/catboost-0.17.2-cp36-none-manylinux1_x86_64.whl (62.5MB)\n",
            "\u001b[K     |████████████████████████████████| 62.5MB 627kB/s \n",
            "\u001b[?25hCollecting shap\n",
            "\u001b[?25l  Downloading https://files.pythonhosted.org/packages/c9/b3/76dc7e0a039543ff8646e453b3a28bfd55a1954f91a6bc7b6ed8be80bf16/shap-0.30.1.tar.gz (244kB)\n",
            "\u001b[K     |████████████████████████████████| 245kB 38.8MB/s \n",
            "\u001b[?25hRequirement already satisfied: ipywidgets in /usr/local/lib/python3.6/dist-packages (7.5.1)\n",
            "Requirement already satisfied: sklearn in /usr/local/lib/python3.6/dist-packages (0.0)\n",
            "Requirement already satisfied: graphviz in /usr/local/lib/python3.6/dist-packages (from catboost) (0.10.1)\n",
            "Requirement already satisfied: six in /usr/local/lib/python3.6/dist-packages (from catboost) (1.12.0)\n",
            "Requirement already satisfied: pandas>=0.24.0 in /usr/local/lib/python3.6/dist-packages (from catboost) (0.24.2)\n",
            "Requirement already satisfied: plotly in /usr/local/lib/python3.6/dist-packages (from catboost) (4.1.1)\n",
            "Requirement already satisfied: numpy>=1.16.0 in /usr/local/lib/python3.6/dist-packages (from catboost) (1.16.5)\n",
            "Requirement already satisfied: scipy in /usr/local/lib/python3.6/dist-packages (from catboost) (1.3.1)\n",
            "Requirement already satisfied: matplotlib in /usr/local/lib/python3.6/dist-packages (from catboost) (3.0.3)\n",
            "Requirement already satisfied: scikit-learn in /usr/local/lib/python3.6/dist-packages (from shap) (0.21.3)\n",
            "Requirement already satisfied: tqdm>4.25.0 in /usr/local/lib/python3.6/dist-packages (from shap) (4.28.1)\n",
            "Requirement already satisfied: ipython in /usr/local/lib/python3.6/dist-packages (from shap) (5.5.0)\n",
            "Requirement already satisfied: scikit-image in /usr/local/lib/python3.6/dist-packages (from shap) (0.15.0)\n",
            "Requirement already satisfied: ipykernel>=4.5.1 in /usr/local/lib/python3.6/dist-packages (from ipywidgets) (4.6.1)\n",
            "Requirement already satisfied: traitlets>=4.3.1 in /usr/local/lib/python3.6/dist-packages (from ipywidgets) (4.3.2)\n",
            "Requirement already satisfied: widgetsnbextension~=3.5.0 in /usr/local/lib/python3.6/dist-packages (from ipywidgets) (3.5.1)\n",
            "Requirement already satisfied: nbformat>=4.2.0 in /usr/local/lib/python3.6/dist-packages (from ipywidgets) (4.4.0)\n",
            "Requirement already satisfied: python-dateutil>=2.5.0 in /usr/local/lib/python3.6/dist-packages (from pandas>=0.24.0->catboost) (2.5.3)\n",
            "Requirement already satisfied: pytz>=2011k in /usr/local/lib/python3.6/dist-packages (from pandas>=0.24.0->catboost) (2018.9)\n",
            "Requirement already satisfied: retrying>=1.3.3 in /usr/local/lib/python3.6/dist-packages (from plotly->catboost) (1.3.3)\n",
            "Requirement already satisfied: pyparsing!=2.0.4,!=2.1.2,!=2.1.6,>=2.0.1 in /usr/local/lib/python3.6/dist-packages (from matplotlib->catboost) (2.4.2)\n",
            "Requirement already satisfied: kiwisolver>=1.0.1 in /usr/local/lib/python3.6/dist-packages (from matplotlib->catboost) (1.1.0)\n",
            "Requirement already satisfied: cycler>=0.10 in /usr/local/lib/python3.6/dist-packages (from matplotlib->catboost) (0.10.0)\n",
            "Requirement already satisfied: joblib>=0.11 in /usr/local/lib/python3.6/dist-packages (from scikit-learn->shap) (0.13.2)\n",
            "Requirement already satisfied: decorator in /usr/local/lib/python3.6/dist-packages (from ipython->shap) (4.4.0)\n",
            "Requirement already satisfied: pygments in /usr/local/lib/python3.6/dist-packages (from ipython->shap) (2.1.3)\n",
            "Requirement already satisfied: simplegeneric>0.8 in /usr/local/lib/python3.6/dist-packages (from ipython->shap) (0.8.1)\n",
            "Requirement already satisfied: pexpect; sys_platform != \"win32\" in /usr/local/lib/python3.6/dist-packages (from ipython->shap) (4.7.0)\n",
            "Requirement already satisfied: pickleshare in /usr/local/lib/python3.6/dist-packages (from ipython->shap) (0.7.5)\n",
            "Requirement already satisfied: prompt-toolkit<2.0.0,>=1.0.4 in /usr/local/lib/python3.6/dist-packages (from ipython->shap) (1.0.16)\n",
            "Requirement already satisfied: setuptools>=18.5 in /usr/local/lib/python3.6/dist-packages (from ipython->shap) (41.2.0)\n",
            "Requirement already satisfied: pillow>=4.3.0 in /usr/local/lib/python3.6/dist-packages (from scikit-image->shap) (4.3.0)\n",
            "Requirement already satisfied: networkx>=2.0 in /usr/local/lib/python3.6/dist-packages (from scikit-image->shap) (2.3)\n",
            "Requirement already satisfied: imageio>=2.0.1 in /usr/local/lib/python3.6/dist-packages (from scikit-image->shap) (2.4.1)\n",
            "Requirement already satisfied: PyWavelets>=0.4.0 in /usr/local/lib/python3.6/dist-packages (from scikit-image->shap) (1.0.3)\n",
            "Requirement already satisfied: jupyter-client in /usr/local/lib/python3.6/dist-packages (from ipykernel>=4.5.1->ipywidgets) (5.3.1)\n",
            "Requirement already satisfied: tornado>=4.0 in /usr/local/lib/python3.6/dist-packages (from ipykernel>=4.5.1->ipywidgets) (4.5.3)\n",
            "Requirement already satisfied: ipython-genutils in /usr/local/lib/python3.6/dist-packages (from traitlets>=4.3.1->ipywidgets) (0.2.0)\n",
            "Requirement already satisfied: notebook>=4.4.1 in /usr/local/lib/python3.6/dist-packages (from widgetsnbextension~=3.5.0->ipywidgets) (5.2.2)\n",
            "Requirement already satisfied: jsonschema!=2.5.0,>=2.4 in /usr/local/lib/python3.6/dist-packages (from nbformat>=4.2.0->ipywidgets) (2.6.0)\n",
            "Requirement already satisfied: jupyter-core in /usr/local/lib/python3.6/dist-packages (from nbformat>=4.2.0->ipywidgets) (4.5.0)\n",
            "Requirement already satisfied: ptyprocess>=0.5 in /usr/local/lib/python3.6/dist-packages (from pexpect; sys_platform != \"win32\"->ipython->shap) (0.6.0)\n",
            "Requirement already satisfied: wcwidth in /usr/local/lib/python3.6/dist-packages (from prompt-toolkit<2.0.0,>=1.0.4->ipython->shap) (0.1.7)\n",
            "Requirement already satisfied: olefile in /usr/local/lib/python3.6/dist-packages (from pillow>=4.3.0->scikit-image->shap) (0.46)\n",
            "Requirement already satisfied: pyzmq>=13 in /usr/local/lib/python3.6/dist-packages (from jupyter-client->ipykernel>=4.5.1->ipywidgets) (17.0.0)\n",
            "Requirement already satisfied: jinja2 in /usr/local/lib/python3.6/dist-packages (from notebook>=4.4.1->widgetsnbextension~=3.5.0->ipywidgets) (2.10.1)\n",
            "Requirement already satisfied: nbconvert in /usr/local/lib/python3.6/dist-packages (from notebook>=4.4.1->widgetsnbextension~=3.5.0->ipywidgets) (5.6.0)\n",
            "Requirement already satisfied: terminado>=0.3.3; sys_platform != \"win32\" in /usr/local/lib/python3.6/dist-packages (from notebook>=4.4.1->widgetsnbextension~=3.5.0->ipywidgets) (0.8.2)\n",
            "Requirement already satisfied: MarkupSafe>=0.23 in /usr/local/lib/python3.6/dist-packages (from jinja2->notebook>=4.4.1->widgetsnbextension~=3.5.0->ipywidgets) (1.1.1)\n",
            "Requirement already satisfied: mistune<2,>=0.8.1 in /usr/local/lib/python3.6/dist-packages (from nbconvert->notebook>=4.4.1->widgetsnbextension~=3.5.0->ipywidgets) (0.8.4)\n",
            "Requirement already satisfied: pandocfilters>=1.4.1 in /usr/local/lib/python3.6/dist-packages (from nbconvert->notebook>=4.4.1->widgetsnbextension~=3.5.0->ipywidgets) (1.4.2)\n",
            "Requirement already satisfied: defusedxml in /usr/local/lib/python3.6/dist-packages (from nbconvert->notebook>=4.4.1->widgetsnbextension~=3.5.0->ipywidgets) (0.6.0)\n",
            "Requirement already satisfied: testpath in /usr/local/lib/python3.6/dist-packages (from nbconvert->notebook>=4.4.1->widgetsnbextension~=3.5.0->ipywidgets) (0.4.2)\n",
            "Requirement already satisfied: bleach in /usr/local/lib/python3.6/dist-packages (from nbconvert->notebook>=4.4.1->widgetsnbextension~=3.5.0->ipywidgets) (3.1.0)\n",
            "Requirement already satisfied: entrypoints>=0.2.2 in /usr/local/lib/python3.6/dist-packages (from nbconvert->notebook>=4.4.1->widgetsnbextension~=3.5.0->ipywidgets) (0.3)\n",
            "Requirement already satisfied: webencodings in /usr/local/lib/python3.6/dist-packages (from bleach->nbconvert->notebook>=4.4.1->widgetsnbextension~=3.5.0->ipywidgets) (0.5.1)\n",
            "Building wheels for collected packages: shap\n",
            "  Building wheel for shap (setup.py) ... \u001b[?25l\u001b[?25hdone\n",
            "  Created wheel for shap: filename=shap-0.30.1-cp36-cp36m-linux_x86_64.whl size=360453 sha256=feb500d8b97e9d1ec930116314e38750ebc037154bed3203f5185328b8baea27\n",
            "  Stored in directory: /root/.cache/pip/wheels/62/94/5e/feb9af12d63a719a32266a29ca564b4dc37b4755052aca6859\n",
            "Successfully built shap\n",
            "Installing collected packages: catboost, shap\n",
            "Successfully installed catboost-0.17.2 shap-0.30.1\n",
            "Enabling notebook extension jupyter-js-widgets/extension...\n",
            "      - Validating: \u001b[32mOK\u001b[0m\n"
          ],
          "name": "stdout"
        }
      ]
    },
    {
      "cell_type": "code",
      "metadata": {
        "id": "-FIK4bS59wo4",
        "colab_type": "code",
        "colab": {}
      },
      "source": [
        "# Authenticate.\n",
        "from google.colab import auth\n",
        "auth.authenticate_user()"
      ],
      "execution_count": 0,
      "outputs": []
    },
    {
      "cell_type": "code",
      "metadata": {
        "id": "sy_eC_uP93YT",
        "colab_type": "code",
        "colab": {}
      },
      "source": [
        "import numpy as np\n",
        "import pandas as pd\n",
        "import sklearn as sk\n",
        "import matplotlib.pyplot as plt\n",
        "import pickle\n",
        "import numpy as np\n",
        "import pandas as pd\n",
        "import sklearn as sk\n",
        "import matplotlib.pyplot as plt\n",
        "import pickle\n",
        "from sklearn.ensemble import RandomForestClassifier"
      ],
      "execution_count": 0,
      "outputs": []
    },
    {
      "cell_type": "markdown",
      "metadata": {
        "id": "mehyWLVH-Cj-",
        "colab_type": "text"
      },
      "source": [
        "Read data"
      ]
    },
    {
      "cell_type": "code",
      "metadata": {
        "id": "cAzJBdvR-CDD",
        "colab_type": "code",
        "outputId": "22145eb9-477d-4ea0-a95a-4550135affd7",
        "colab": {
          "base_uri": "https://localhost:8080/",
          "height": 129
        }
      },
      "source": [
        "gcs_data = \"gs://data-fraud-detection/test_transaction.csv\"\n",
        "!gsutil cp $gcs_data test.csv\n",
        "test_transaction=pd.read_csv('test.csv', low_memory=False)\n",
        "!rm test.csv\n",
        "gcs_data = \"gs://data-fraud-detection/test_identity.csv\"\n",
        "!gsutil cp $gcs_data test.csv\n",
        "test_identity=pd.read_csv('test.csv', low_memory=False)\n",
        "!rm test.csv"
      ],
      "execution_count": 0,
      "outputs": [
        {
          "output_type": "stream",
          "text": [
            "Copying gs://data-fraud-detection/test_transaction.csv...\n",
            "/ [1 files][584.8 MiB/584.8 MiB]   23.4 MiB/s                                   \n",
            "Operation completed over 1 objects/584.8 MiB.                                    \n",
            "Copying gs://data-fraud-detection/test_identity.csv...\n",
            "\\ [1 files][ 24.6 MiB/ 24.6 MiB]                                                \n",
            "Operation completed over 1 objects/24.6 MiB.                                     \n"
          ],
          "name": "stdout"
        }
      ]
    },
    {
      "cell_type": "code",
      "metadata": {
        "id": "CvjlEQi7-3eY",
        "colab_type": "code",
        "outputId": "cd17c202-f474-41b5-cfdd-6f2cf382d765",
        "colab": {
          "base_uri": "https://localhost:8080/",
          "height": 129
        }
      },
      "source": [
        "!gsutil cp gs://data-fraud-detection/to_impute.pickle to_impute.pickle\n",
        "to_impute = pickle.load(open('to_impute.pickle','rb'))\n",
        "!rm to_impute.pickle\n",
        "!gsutil cp gs://data-fraud-detection/dict_freq_ca.pickle dict_freq_cat.pickle\n",
        "dict_freq_cat = pickle.load(open('dict_freq_cat.pickle','rb'))\n",
        "!rm dict_freq_cat.pickle"
      ],
      "execution_count": 0,
      "outputs": [
        {
          "output_type": "stream",
          "text": [
            "Copying gs://data-fraud-detection/to_impute.pickle...\n",
            "/ [1 files][ 16.1 KiB/ 16.1 KiB]                                                \n",
            "Operation completed over 1 objects/16.1 KiB.                                     \n",
            "Copying gs://data-fraud-detection/dict_freq_ca.pickle...\n",
            "- [1 files][  2.9 MiB/  2.9 MiB]                                                \n",
            "Operation completed over 1 objects/2.9 MiB.                                      \n"
          ],
          "name": "stdout"
        }
      ]
    },
    {
      "cell_type": "code",
      "metadata": {
        "id": "q3mlZn-Q_hw8",
        "colab_type": "code",
        "outputId": "652d759d-3961-46e7-ffab-52623893b900",
        "colab": {
          "base_uri": "https://localhost:8080/",
          "height": 185
        }
      },
      "source": [
        "!gsutil cp gs://data-fraud-detection/numerical_features.pickle numerical_features.pickle\n",
        "!gsutil cp gs://data-fraud-detection/categorical_features.pickle categorical_features.pickle \n",
        "numerical_features = pickle.load(open('numerical_features.pickle','rb'))\n",
        "categorical_features = pickle.load(open('categorical_features.pickle','rb'))\n",
        "!gsutil cp gs://data-fraud-detection/dict_freq_ca.pickle dict_freq_cat.pickle\n",
        "dict_freq_cat = pickle.load(open('dict_freq_cat.pickle','rb'))"
      ],
      "execution_count": 0,
      "outputs": [
        {
          "output_type": "stream",
          "text": [
            "Copying gs://data-fraud-detection/numerical_features.pickle...\n",
            "/ [1 files][  5.8 KiB/  5.8 KiB]                                                \n",
            "Operation completed over 1 objects/5.8 KiB.                                      \n",
            "Copying gs://data-fraud-detection/categorical_features.pickle...\n",
            "- [1 files][  2.2 MiB/  2.2 MiB]                                                \n",
            "Operation completed over 1 objects/2.2 MiB.                                      \n",
            "Copying gs://data-fraud-detection/dict_freq_ca.pickle...\n",
            "- [1 files][  2.9 MiB/  2.9 MiB]                                                \n",
            "Operation completed over 1 objects/2.9 MiB.                                      \n"
          ],
          "name": "stdout"
        }
      ]
    },
    {
      "cell_type": "code",
      "metadata": {
        "id": "EMN1K-ImQrsi",
        "colab_type": "code",
        "colab": {}
      },
      "source": [
        "test_identity[\"device_info_cut\"]=test_identity.DeviceInfo.str[:2]\n",
        "test_identity['present_identity'] = 1\n",
        "test_transaction = pd.merge(test_transaction,test_identity,on=\"TransactionID\",how='left')\n",
        "import datetime\n",
        "test_transaction['Transaction_hour'] = np.floor(test_transaction['TransactionDT'] / 3600) % 24\n",
        "START_DATE = '2017-12-01'\n",
        "startdate = datetime.datetime.strptime(START_DATE, '%Y-%m-%d')\n",
        "test_transaction['TransactionDT'] = test_transaction['TransactionDT'].apply(lambda x: (startdate + datetime.timedelta(seconds = x)))\n",
        "test_transaction['TransactionDT_Days'] = test_transaction['TransactionDT'].dt.day\n",
        "import re\n",
        "test_transaction['D9'] = test_transaction['TransactionDT'].dt.hour\n",
        "test_transaction['dow'] = test_transaction['TransactionDT'].dt.dayofweek\n",
        "test_transaction['id_30_alpha'] = test_transaction['id_30'].str.replace('[^a-zA-Z]', '')\n",
        "test_transaction['id_31_alpha'] = test_transaction['id_31'].str.replace('[^a-zA-Z]', '')\n",
        "test_transaction['group_os'] = test_transaction[\"id_30\"].str.split(' ', expand = True)[[0]]\n",
        "test_transaction['group_browser'] = test_transaction[\"id_31\"].str.split(' ', expand = True)[[0]]\n",
        "\n",
        "test_transaction['uid'] = test_transaction['card1'].astype(str)+'_'+test_transaction['card2'].astype(str)\n",
        "test_transaction['uid2'] = test_transaction['uid'].astype(str)+'_'+test_transaction['card3'].astype(str)+'_'+test_transaction['card5'].astype(str)\n",
        "test_transaction['uid3'] = test_transaction['uid2'].astype(str)+'_'+test_transaction['addr1'].astype(str)+'_'+test_transaction['addr2'].astype(str)\n",
        "\n",
        "\n",
        "test_transaction['present_identity'].fillna(0,inplace=True)\n",
        "test_transaction['device_name'] = test_transaction['DeviceInfo'].str.split('/', expand=True)[0]\n",
        "test_transaction['device_version'] = test_transaction['DeviceInfo'].str.split('/', expand=True)[1]\n",
        "\n",
        "test_transaction.loc[test_transaction['device_name'].str.contains('SM', na=False), 'device_name'] = 'Samsung' \n",
        "test_transaction.loc[test_transaction['device_name'].str.contains('SAMSUNG', na=False), 'device_name'] = 'Samsung' \n",
        "test_transaction.loc[test_transaction['device_name'].str.contains('GT-', na=False), 'device_name'] = 'Samsung' \n",
        "test_transaction.loc[test_transaction['device_name'].str.contains('Moto G', na=False), 'device_name'] = 'Motorola' \n",
        "test_transaction.loc[test_transaction['device_name'].str.contains('Moto', na=False), 'device_name'] = 'Motorola' \n",
        "test_transaction.loc[test_transaction['device_name'].str.contains('moto', na=False), 'device_name'] = 'Motorola' \n",
        "test_transaction.loc[test_transaction['device_name'].str.contains('LG-', na=False), 'device_name'] = 'LG' \n",
        "test_transaction.loc[test_transaction['device_name'].str.contains('rv:', na=False), 'device_name'] = 'RV' \n",
        "test_transaction.loc[test_transaction['device_name'].str.contains('HUAWEI', na=False), 'device_name'] = 'Huawei' \n",
        "test_transaction.loc[test_transaction['device_name'].str.contains('ALE-', na=False), 'device_name'] = 'Huawei' \n",
        "test_transaction.loc[test_transaction['device_name'].str.contains('-L', na=False), 'device_name'] = 'Huawei' \n",
        "test_transaction.loc[test_transaction['device_name'].str.contains('Blade', na=False), 'device_name'] = 'ZTE' \n",
        "test_transaction.loc[test_transaction['device_name'].str.contains('BLADE', na=False), 'device_name'] = 'ZTE' \n",
        "test_transaction.loc[test_transaction['device_name'].str.contains('Linux', na=False), 'device_name'] = 'Linux' \n",
        "test_transaction.loc[test_transaction['device_name'].str.contains('XT', na=False), 'device_name'] = 'Sony' \n",
        "test_transaction.loc[test_transaction['device_name'].str.contains('HTC', na=False), 'device_name'] = 'HTC' \n",
        "test_transaction.loc[test_transaction['device_name'].str.contains('ASUS', na=False), 'device_name'] = 'Asus'\n",
        "test_transaction.loc[test_transaction.device_name.isin(test_transaction.device_name.value_counts()[test_transaction.device_name.value_counts() < 200].index), 'device_name'] = \"Others\"\n",
        "\n",
        "\n",
        "test_transaction['Dollars'] = test_transaction['TransactionAmt'].apply(np.floor).astype('int')\n",
        "test_transaction['Cents'] = (test_transaction['TransactionAmt'].round(2)*100- 100*test_transaction['Dollars']).astype('int')\n",
        "test_transaction['Nb_decimals_cents'] = (test_transaction['TransactionAmt']-test_transaction['Dollars']).astype('str').str.len()\n",
        "test_transaction['Dollars_last_digit'] = test_transaction['Dollars'].mod(10)  \n",
        "test_transaction['Dollars_first_digit'] = test_transaction['Dollars'].astype('str').str[0] \n",
        "test_transaction[['Dollars','Cents','TransactionAmt','Nb_decimals_cents','Dollars_last_digit','Dollars_first_digit']].head(10)\n",
        "\n",
        "\n",
        "test_transaction['screen_width'] = (test_transaction['id_33'].str.split('x', expand=True)[0]).astype(float)\n",
        "test_transaction['screen_height'] = (test_transaction['id_33'].str.split('x', expand=True)[1]).astype(float)"
      ],
      "execution_count": 0,
      "outputs": []
    },
    {
      "cell_type": "code",
      "metadata": {
        "id": "8pHOGNBcTFcZ",
        "colab_type": "code",
        "colab": {}
      },
      "source": [
        "test_transaction.drop(columns=['device_version'],inplace=True)"
      ],
      "execution_count": 0,
      "outputs": []
    },
    {
      "cell_type": "code",
      "metadata": {
        "id": "Zrp6sTliRe_8",
        "colab_type": "code",
        "outputId": "766be258-603f-4bfd-d335-c4f27a88edb3",
        "colab": {
          "base_uri": "https://localhost:8080/",
          "height": 1000
        }
      },
      "source": [
        "\n",
        "import math\n",
        "for feature in numerical_features:\n",
        "  if feature[:5] != 'count':\n",
        "    value_to_impute = to_impute[feature]\n",
        "    if math.isnan(value_to_impute):\n",
        "      numerical_features.remove(feature)\n",
        "    else:\n",
        "      test_transaction[feature].fillna(value_to_impute,inplace=True)\n",
        "\n",
        "#numerical_features = to_impute.keys().to_list()\n",
        "\n",
        "for feature in categorical_features:\n",
        "  print(feature)\n",
        "  test_transaction[feature] = test_transaction[feature].astype(\"str\")\n",
        "  test_transaction[feature]=test_transaction[feature].str.replace(' ', '_')\n",
        "  test_transaction[feature]=test_transaction[feature].str.replace('.0', '',regex=False)\n",
        "  test_transaction[feature]=test_transaction[feature].str.replace('.', '_',regex=False)\n",
        "  test_transaction[feature]=test_transaction[feature].str.replace(':','_',regex=False)\n",
        "  test_transaction[feature]=test_transaction[feature].str.replace('/','_',regex=False)"
      ],
      "execution_count": 0,
      "outputs": [
        {
          "output_type": "stream",
          "text": [
            "card1\n",
            "card2\n",
            "card3\n",
            "card4\n",
            "card5\n",
            "card6\n",
            "addr1\n",
            "addr2\n",
            "P_emaildomain\n",
            "R_emaildomain\n",
            "ProductCD\n",
            "M1\n",
            "M2\n",
            "M3\n",
            "M4\n",
            "M5\n",
            "M6\n",
            "M7\n",
            "M8\n",
            "M9\n",
            "DeviceType\n",
            "DeviceInfo\n",
            "device_info_cut\n",
            "dow\n",
            "id_30_alpha\n",
            "id_31_alpha\n",
            "group_os\n",
            "group_browser\n",
            "uid\n",
            "uid2\n",
            "uid3\n",
            "TransactionDT_Days\n",
            "device_name\n",
            "Dollars_first_digit\n",
            "Dollars_last_digit\n",
            "Cents\n",
            "Dollars\n",
            "id_12\n",
            "id_13\n",
            "id_14\n",
            "id_15\n",
            "id_16\n",
            "id_17\n",
            "id_18\n",
            "id_19\n",
            "id_20\n",
            "id_21\n",
            "id_22\n",
            "id_23\n",
            "id_24\n",
            "id_25\n",
            "id_26\n",
            "id_27\n",
            "id_28\n",
            "id_29\n",
            "id_30\n",
            "id_31\n",
            "id_32\n",
            "id_33\n",
            "id_34\n",
            "id_35\n",
            "id_36\n",
            "id_37\n",
            "id_38\n"
          ],
          "name": "stdout"
        }
      ]
    },
    {
      "cell_type": "code",
      "metadata": {
        "id": "LeQNnTnKSJWS",
        "colab_type": "code",
        "outputId": "2b3ef563-d837-4230-a030-f27d0d57c643",
        "colab": {
          "base_uri": "https://localhost:8080/",
          "height": 1000
        }
      },
      "source": [
        "%%time\n",
        "\n",
        "min_cat = 0.0005\n",
        "valid_values = {}\n",
        "old_numerical_features=numerical_features.copy()\n",
        "for cat in categorical_features:\n",
        "    print(cat)\n",
        "    test_transaction[cat].fillna('missing',inplace=True)\n",
        "    counts = dict_freq_cat[cat] \n",
        "    #rare_values = counts[counts['count_'+cat] <= min_cat][cat].tolist()\n",
        "    #test_transaction[cat].replace(rare_values, \"RARE_VALUE\",inplace=True)\n",
        "    test_transaction[cat] = test_transaction[cat].astype('str')\n",
        "    test_transaction = pd.merge(test_transaction,counts,on=cat,how='left')\n",
        "    test_transaction['count_'+cat].fillna(0,inplace=True)\n",
        "\n",
        "    "
      ],
      "execution_count": 0,
      "outputs": [
        {
          "output_type": "stream",
          "text": [
            "card1\n",
            "card2\n",
            "card3\n",
            "card4\n",
            "card5\n",
            "card6\n",
            "addr1\n",
            "addr2\n",
            "P_emaildomain\n",
            "R_emaildomain\n",
            "ProductCD\n",
            "M1\n",
            "M2\n",
            "M3\n",
            "M4\n",
            "M5\n",
            "M6\n",
            "M7\n",
            "M8\n",
            "M9\n",
            "DeviceType\n",
            "DeviceInfo\n",
            "device_info_cut\n",
            "dow\n",
            "id_30_alpha\n",
            "id_31_alpha\n",
            "group_os\n",
            "group_browser\n",
            "uid\n",
            "uid2\n",
            "uid3\n",
            "TransactionDT_Days\n",
            "device_name\n",
            "Dollars_first_digit\n",
            "Dollars_last_digit\n",
            "Cents\n",
            "Dollars\n",
            "id_12\n",
            "id_13\n",
            "id_14\n",
            "id_15\n",
            "id_16\n",
            "id_17\n",
            "id_18\n",
            "id_19\n",
            "id_20\n",
            "id_21\n",
            "id_22\n",
            "id_23\n",
            "id_24\n",
            "id_25\n",
            "id_26\n",
            "id_27\n",
            "id_28\n",
            "id_29\n",
            "id_30\n",
            "id_31\n",
            "id_32\n",
            "id_33\n",
            "id_34\n",
            "id_35\n",
            "id_36\n",
            "id_37\n",
            "id_38\n",
            "CPU times: user 2min 12s, sys: 2.91 s, total: 2min 15s\n",
            "Wall time: 2min 15s\n"
          ],
          "name": "stdout"
        }
      ]
    },
    {
      "cell_type": "code",
      "metadata": {
        "id": "fP3eQRpFTff7",
        "colab_type": "code",
        "outputId": "2bbf13d4-b336-4eb6-84d3-7c7ae02d2fdf",
        "colab": {
          "base_uri": "https://localhost:8080/",
          "height": 73
        }
      },
      "source": [
        "import catboost\n",
        "from catboost import CatBoostClassifier\n",
        "!gsutil cp  gs://data-fraud-detection/catboost_classifier_lr01.pickle catboost_classifier_lr01.pickle\n",
        "model = pickle.load(open('catboost_classifier_lr01.pickle','rb'))"
      ],
      "execution_count": 0,
      "outputs": [
        {
          "output_type": "stream",
          "text": [
            "Copying gs://data-fraud-detection/catboost_classifier_lr01.pickle...\n",
            "\\\n",
            "Operation completed over 1 objects/4.8 GiB.                                      \n"
          ],
          "name": "stdout"
        }
      ]
    },
    {
      "cell_type": "code",
      "metadata": {
        "id": "lXF74D5g4t3j",
        "colab_type": "code",
        "colab": {}
      },
      "source": [
        "tID = test_transaction.TransactionID\n",
        "\n",
        "test_transaction.drop(columns=['TransactionID'],inplace=True)"
      ],
      "execution_count": 0,
      "outputs": []
    },
    {
      "cell_type": "code",
      "metadata": {
        "id": "BeirirKp5DYi",
        "colab_type": "code",
        "outputId": "04d58c8d-4b9a-4149-aa27-d696761ca7b8",
        "colab": {
          "base_uri": "https://localhost:8080/",
          "height": 36
        }
      },
      "source": [
        "len(test_transaction.columns.tolist())"
      ],
      "execution_count": 0,
      "outputs": [
        {
          "output_type": "execute_result",
          "data": {
            "text/plain": [
              "516"
            ]
          },
          "metadata": {
            "tags": []
          },
          "execution_count": 12
        }
      ]
    },
    {
      "cell_type": "code",
      "metadata": {
        "id": "j4TDv_WMVn1w",
        "colab_type": "code",
        "outputId": "867519fa-986f-4f34-8447-53ec9624f93e",
        "colab": {
          "base_uri": "https://localhost:8080/",
          "height": 206
        }
      },
      "source": [
        "pred_test= model.predict_proba(test_transaction)[:,1].tolist()\n",
        "submission=pd.DataFrame({\"TransactionID\": tID,\"isFraud\":pred_test})\n",
        "submission.head()"
      ],
      "execution_count": 0,
      "outputs": [
        {
          "output_type": "execute_result",
          "data": {
            "text/html": [
              "<div>\n",
              "<style scoped>\n",
              "    .dataframe tbody tr th:only-of-type {\n",
              "        vertical-align: middle;\n",
              "    }\n",
              "\n",
              "    .dataframe tbody tr th {\n",
              "        vertical-align: top;\n",
              "    }\n",
              "\n",
              "    .dataframe thead th {\n",
              "        text-align: right;\n",
              "    }\n",
              "</style>\n",
              "<table border=\"1\" class=\"dataframe\">\n",
              "  <thead>\n",
              "    <tr style=\"text-align: right;\">\n",
              "      <th></th>\n",
              "      <th>TransactionID</th>\n",
              "      <th>isFraud</th>\n",
              "    </tr>\n",
              "  </thead>\n",
              "  <tbody>\n",
              "    <tr>\n",
              "      <th>0</th>\n",
              "      <td>3663549</td>\n",
              "      <td>0.001452</td>\n",
              "    </tr>\n",
              "    <tr>\n",
              "      <th>1</th>\n",
              "      <td>3663550</td>\n",
              "      <td>0.008484</td>\n",
              "    </tr>\n",
              "    <tr>\n",
              "      <th>2</th>\n",
              "      <td>3663551</td>\n",
              "      <td>0.000888</td>\n",
              "    </tr>\n",
              "    <tr>\n",
              "      <th>3</th>\n",
              "      <td>3663552</td>\n",
              "      <td>0.001765</td>\n",
              "    </tr>\n",
              "    <tr>\n",
              "      <th>4</th>\n",
              "      <td>3663553</td>\n",
              "      <td>0.007048</td>\n",
              "    </tr>\n",
              "  </tbody>\n",
              "</table>\n",
              "</div>"
            ],
            "text/plain": [
              "   TransactionID   isFraud\n",
              "0        3663549  0.001452\n",
              "1        3663550  0.008484\n",
              "2        3663551  0.000888\n",
              "3        3663552  0.001765\n",
              "4        3663553  0.007048"
            ]
          },
          "metadata": {
            "tags": []
          },
          "execution_count": 13
        }
      ]
    },
    {
      "cell_type": "code",
      "metadata": {
        "id": "6wdWkWnHV3qY",
        "colab_type": "code",
        "outputId": "87817632-bcd7-44cd-fd95-463bfb4444b3",
        "colab": {
          "base_uri": "https://localhost:8080/",
          "height": 73
        }
      },
      "source": [
        "submission.to_csv(\"submission.csv\",index=False)\n",
        "!gsutil cp submission.csv gs://data-fraud-detection/submission_catboost.csv"
      ],
      "execution_count": 0,
      "outputs": [
        {
          "output_type": "stream",
          "text": [
            "Copying file://submission.csv [Content-Type=text/csv]...\n",
            "-\n",
            "Operation completed over 1 objects/14.0 MiB.                                     \n"
          ],
          "name": "stdout"
        }
      ]
    }
  ]
}