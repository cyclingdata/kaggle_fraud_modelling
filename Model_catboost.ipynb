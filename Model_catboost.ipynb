{
  "nbformat": 4,
  "nbformat_minor": 0,
  "metadata": {
    "colab": {
      "name": "Model-catboost.ipynb",
      "provenance": [],
      "machine_shape": "hm",
      "include_colab_link": true
    },
    "kernelspec": {
      "name": "python3",
      "display_name": "Python 3"
    },
    "accelerator": "GPU"
  },
  "cells": [
    {
      "cell_type": "markdown",
      "metadata": {
        "id": "view-in-github",
        "colab_type": "text"
      },
      "source": [
        "<a href=\"https://colab.research.google.com/github/cyclingdata/kaggle_fraud_modelling/blob/master/Model_catboost.ipynb\" target=\"_parent\"><img src=\"https://colab.research.google.com/assets/colab-badge.svg\" alt=\"Open In Colab\"/></a>"
      ]
    },
    {
      "cell_type": "markdown",
      "metadata": {
        "id": "ITozZRD8J4N5",
        "colab_type": "text"
      },
      "source": [
        "## Apply catboost models for Kaggle Fraud detection competition\n",
        "\n",
        "Install catboost"
      ]
    },
    {
      "cell_type": "code",
      "metadata": {
        "id": "eJ-h7TQiBkUJ",
        "colab_type": "code",
        "outputId": "ecb6facf-ab02-40ac-fdf7-b21623dc3d5a",
        "colab": {
          "base_uri": "https://localhost:8080/",
          "height": 1000
        }
      },
      "source": [
        "!pip install catboost shap ipywidgets sklearn\n",
        "!jupyter nbextension enable --py widgetsnbextension"
      ],
      "execution_count": 0,
      "outputs": [
        {
          "output_type": "stream",
          "text": [
            "Collecting catboost\n",
            "\u001b[?25l  Downloading https://files.pythonhosted.org/packages/20/ef/c2ce46539e7b946ae2165fb753b11e200cb8bb9319a21821222644ddc281/catboost-0.17.2-cp36-none-manylinux1_x86_64.whl (62.5MB)\n",
            "\u001b[K     |████████████████████████████████| 62.5MB 1.4MB/s \n",
            "\u001b[?25hCollecting shap\n",
            "\u001b[?25l  Downloading https://files.pythonhosted.org/packages/c9/b3/76dc7e0a039543ff8646e453b3a28bfd55a1954f91a6bc7b6ed8be80bf16/shap-0.30.1.tar.gz (244kB)\n",
            "\u001b[K     |████████████████████████████████| 245kB 53.4MB/s \n",
            "\u001b[?25hRequirement already satisfied: ipywidgets in /usr/local/lib/python3.6/dist-packages (7.5.1)\n",
            "Requirement already satisfied: sklearn in /usr/local/lib/python3.6/dist-packages (0.0)\n",
            "Requirement already satisfied: plotly in /usr/local/lib/python3.6/dist-packages (from catboost) (4.1.1)\n",
            "Requirement already satisfied: scipy in /usr/local/lib/python3.6/dist-packages (from catboost) (1.3.1)\n",
            "Requirement already satisfied: graphviz in /usr/local/lib/python3.6/dist-packages (from catboost) (0.10.1)\n",
            "Requirement already satisfied: matplotlib in /usr/local/lib/python3.6/dist-packages (from catboost) (3.0.3)\n",
            "Requirement already satisfied: pandas>=0.24.0 in /usr/local/lib/python3.6/dist-packages (from catboost) (0.24.2)\n",
            "Requirement already satisfied: six in /usr/local/lib/python3.6/dist-packages (from catboost) (1.12.0)\n",
            "Requirement already satisfied: numpy>=1.16.0 in /usr/local/lib/python3.6/dist-packages (from catboost) (1.16.5)\n",
            "Requirement already satisfied: scikit-learn in /usr/local/lib/python3.6/dist-packages (from shap) (0.21.3)\n",
            "Requirement already satisfied: tqdm>4.25.0 in /usr/local/lib/python3.6/dist-packages (from shap) (4.28.1)\n",
            "Requirement already satisfied: ipython in /usr/local/lib/python3.6/dist-packages (from shap) (5.5.0)\n",
            "Requirement already satisfied: scikit-image in /usr/local/lib/python3.6/dist-packages (from shap) (0.15.0)\n",
            "Requirement already satisfied: widgetsnbextension~=3.5.0 in /usr/local/lib/python3.6/dist-packages (from ipywidgets) (3.5.1)\n",
            "Requirement already satisfied: ipykernel>=4.5.1 in /usr/local/lib/python3.6/dist-packages (from ipywidgets) (4.6.1)\n",
            "Requirement already satisfied: traitlets>=4.3.1 in /usr/local/lib/python3.6/dist-packages (from ipywidgets) (4.3.2)\n",
            "Requirement already satisfied: nbformat>=4.2.0 in /usr/local/lib/python3.6/dist-packages (from ipywidgets) (4.4.0)\n",
            "Requirement already satisfied: retrying>=1.3.3 in /usr/local/lib/python3.6/dist-packages (from plotly->catboost) (1.3.3)\n",
            "Requirement already satisfied: kiwisolver>=1.0.1 in /usr/local/lib/python3.6/dist-packages (from matplotlib->catboost) (1.1.0)\n",
            "Requirement already satisfied: python-dateutil>=2.1 in /usr/local/lib/python3.6/dist-packages (from matplotlib->catboost) (2.5.3)\n",
            "Requirement already satisfied: cycler>=0.10 in /usr/local/lib/python3.6/dist-packages (from matplotlib->catboost) (0.10.0)\n",
            "Requirement already satisfied: pyparsing!=2.0.4,!=2.1.2,!=2.1.6,>=2.0.1 in /usr/local/lib/python3.6/dist-packages (from matplotlib->catboost) (2.4.2)\n",
            "Requirement already satisfied: pytz>=2011k in /usr/local/lib/python3.6/dist-packages (from pandas>=0.24.0->catboost) (2018.9)\n",
            "Requirement already satisfied: joblib>=0.11 in /usr/local/lib/python3.6/dist-packages (from scikit-learn->shap) (0.13.2)\n",
            "Requirement already satisfied: pexpect; sys_platform != \"win32\" in /usr/local/lib/python3.6/dist-packages (from ipython->shap) (4.7.0)\n",
            "Requirement already satisfied: prompt-toolkit<2.0.0,>=1.0.4 in /usr/local/lib/python3.6/dist-packages (from ipython->shap) (1.0.16)\n",
            "Requirement already satisfied: pygments in /usr/local/lib/python3.6/dist-packages (from ipython->shap) (2.1.3)\n",
            "Requirement already satisfied: decorator in /usr/local/lib/python3.6/dist-packages (from ipython->shap) (4.4.0)\n",
            "Requirement already satisfied: pickleshare in /usr/local/lib/python3.6/dist-packages (from ipython->shap) (0.7.5)\n",
            "Requirement already satisfied: simplegeneric>0.8 in /usr/local/lib/python3.6/dist-packages (from ipython->shap) (0.8.1)\n",
            "Requirement already satisfied: setuptools>=18.5 in /usr/local/lib/python3.6/dist-packages (from ipython->shap) (41.2.0)\n",
            "Requirement already satisfied: networkx>=2.0 in /usr/local/lib/python3.6/dist-packages (from scikit-image->shap) (2.3)\n",
            "Requirement already satisfied: pillow>=4.3.0 in /usr/local/lib/python3.6/dist-packages (from scikit-image->shap) (4.3.0)\n",
            "Requirement already satisfied: PyWavelets>=0.4.0 in /usr/local/lib/python3.6/dist-packages (from scikit-image->shap) (1.0.3)\n",
            "Requirement already satisfied: imageio>=2.0.1 in /usr/local/lib/python3.6/dist-packages (from scikit-image->shap) (2.4.1)\n",
            "Requirement already satisfied: notebook>=4.4.1 in /usr/local/lib/python3.6/dist-packages (from widgetsnbextension~=3.5.0->ipywidgets) (5.2.2)\n",
            "Requirement already satisfied: jupyter-client in /usr/local/lib/python3.6/dist-packages (from ipykernel>=4.5.1->ipywidgets) (5.3.1)\n",
            "Requirement already satisfied: tornado>=4.0 in /usr/local/lib/python3.6/dist-packages (from ipykernel>=4.5.1->ipywidgets) (4.5.3)\n",
            "Requirement already satisfied: ipython-genutils in /usr/local/lib/python3.6/dist-packages (from traitlets>=4.3.1->ipywidgets) (0.2.0)\n",
            "Requirement already satisfied: jsonschema!=2.5.0,>=2.4 in /usr/local/lib/python3.6/dist-packages (from nbformat>=4.2.0->ipywidgets) (2.6.0)\n",
            "Requirement already satisfied: jupyter-core in /usr/local/lib/python3.6/dist-packages (from nbformat>=4.2.0->ipywidgets) (4.5.0)\n",
            "Requirement already satisfied: ptyprocess>=0.5 in /usr/local/lib/python3.6/dist-packages (from pexpect; sys_platform != \"win32\"->ipython->shap) (0.6.0)\n",
            "Requirement already satisfied: wcwidth in /usr/local/lib/python3.6/dist-packages (from prompt-toolkit<2.0.0,>=1.0.4->ipython->shap) (0.1.7)\n",
            "Requirement already satisfied: olefile in /usr/local/lib/python3.6/dist-packages (from pillow>=4.3.0->scikit-image->shap) (0.46)\n",
            "Requirement already satisfied: terminado>=0.3.3; sys_platform != \"win32\" in /usr/local/lib/python3.6/dist-packages (from notebook>=4.4.1->widgetsnbextension~=3.5.0->ipywidgets) (0.8.2)\n",
            "Requirement already satisfied: jinja2 in /usr/local/lib/python3.6/dist-packages (from notebook>=4.4.1->widgetsnbextension~=3.5.0->ipywidgets) (2.10.1)\n",
            "Requirement already satisfied: nbconvert in /usr/local/lib/python3.6/dist-packages (from notebook>=4.4.1->widgetsnbextension~=3.5.0->ipywidgets) (5.6.0)\n",
            "Requirement already satisfied: pyzmq>=13 in /usr/local/lib/python3.6/dist-packages (from jupyter-client->ipykernel>=4.5.1->ipywidgets) (17.0.0)\n",
            "Requirement already satisfied: MarkupSafe>=0.23 in /usr/local/lib/python3.6/dist-packages (from jinja2->notebook>=4.4.1->widgetsnbextension~=3.5.0->ipywidgets) (1.1.1)\n",
            "Requirement already satisfied: mistune<2,>=0.8.1 in /usr/local/lib/python3.6/dist-packages (from nbconvert->notebook>=4.4.1->widgetsnbextension~=3.5.0->ipywidgets) (0.8.4)\n",
            "Requirement already satisfied: bleach in /usr/local/lib/python3.6/dist-packages (from nbconvert->notebook>=4.4.1->widgetsnbextension~=3.5.0->ipywidgets) (3.1.0)\n",
            "Requirement already satisfied: testpath in /usr/local/lib/python3.6/dist-packages (from nbconvert->notebook>=4.4.1->widgetsnbextension~=3.5.0->ipywidgets) (0.4.2)\n",
            "Requirement already satisfied: defusedxml in /usr/local/lib/python3.6/dist-packages (from nbconvert->notebook>=4.4.1->widgetsnbextension~=3.5.0->ipywidgets) (0.6.0)\n",
            "Requirement already satisfied: pandocfilters>=1.4.1 in /usr/local/lib/python3.6/dist-packages (from nbconvert->notebook>=4.4.1->widgetsnbextension~=3.5.0->ipywidgets) (1.4.2)\n",
            "Requirement already satisfied: entrypoints>=0.2.2 in /usr/local/lib/python3.6/dist-packages (from nbconvert->notebook>=4.4.1->widgetsnbextension~=3.5.0->ipywidgets) (0.3)\n",
            "Requirement already satisfied: webencodings in /usr/local/lib/python3.6/dist-packages (from bleach->nbconvert->notebook>=4.4.1->widgetsnbextension~=3.5.0->ipywidgets) (0.5.1)\n",
            "Building wheels for collected packages: shap\n",
            "  Building wheel for shap (setup.py) ... \u001b[?25l\u001b[?25hdone\n",
            "  Created wheel for shap: filename=shap-0.30.1-cp36-cp36m-linux_x86_64.whl size=360445 sha256=a2d5da55e32bebf06aa387f56aa894e5e4ae5e6dffb04d70849078dcc2475c60\n",
            "  Stored in directory: /root/.cache/pip/wheels/62/94/5e/feb9af12d63a719a32266a29ca564b4dc37b4755052aca6859\n",
            "Successfully built shap\n",
            "Installing collected packages: catboost, shap\n",
            "Successfully installed catboost-0.17.2 shap-0.30.1\n",
            "Enabling notebook extension jupyter-js-widgets/extension...\n",
            "      - Validating: \u001b[32mOK\u001b[0m\n"
          ],
          "name": "stdout"
        }
      ]
    },
    {
      "cell_type": "markdown",
      "metadata": {
        "id": "Rxc7muLSbpoW",
        "colab_type": "text"
      },
      "source": [
        "Connect to Google account to download data stored on GCP"
      ]
    },
    {
      "cell_type": "code",
      "metadata": {
        "id": "62-g5jy-Pd04",
        "colab_type": "code",
        "colab": {}
      },
      "source": [
        "# Authenticate.\n",
        "from google.colab import auth\n",
        "auth.authenticate_user()"
      ],
      "execution_count": 0,
      "outputs": []
    },
    {
      "cell_type": "markdown",
      "metadata": {
        "id": "UN7Oantnbuym",
        "colab_type": "text"
      },
      "source": [
        "Import needed libraries"
      ]
    },
    {
      "cell_type": "code",
      "metadata": {
        "id": "2zvkyFHBPhz7",
        "colab_type": "code",
        "colab": {}
      },
      "source": [
        "import numpy as np\n",
        "import pandas as pd\n",
        "import sklearn as sk\n",
        "import matplotlib.pyplot as plt\n",
        "import pickle\n",
        "import numpy as np\n",
        "import pandas as pd\n",
        "import sklearn as sk\n",
        "import matplotlib.pyplot as plt\n",
        "import pickle"
      ],
      "execution_count": 0,
      "outputs": []
    },
    {
      "cell_type": "markdown",
      "metadata": {
        "id": "BYEPY7_ebxR2",
        "colab_type": "text"
      },
      "source": [
        "Download train and test datasets from GCP"
      ]
    },
    {
      "cell_type": "code",
      "metadata": {
        "id": "v0y3kuIzPiqe",
        "colab_type": "code",
        "outputId": "4af98033-49a3-4854-e9e7-567d52f18a00",
        "colab": {
          "base_uri": "https://localhost:8080/",
          "height": 73
        }
      },
      "source": [
        "!gsutil cp gs://data-fraud-detection/X_train_cat.parquet X_train_cat.parquet\n",
        "X_train_new = pd.read_parquet('X_train_cat.parquet')"
      ],
      "execution_count": 0,
      "outputs": [
        {
          "output_type": "stream",
          "text": [
            "Copying gs://data-fraud-detection/X_train_cat.parquet...\n",
            "/ [1 files][103.2 MiB/103.2 MiB]                                                \n",
            "Operation completed over 1 objects/103.2 MiB.                                    \n"
          ],
          "name": "stdout"
        }
      ]
    },
    {
      "cell_type": "code",
      "metadata": {
        "id": "uteDyGVLQNg5",
        "colab_type": "code",
        "outputId": "dedd86d0-20ee-45cb-9308-a04e425e485a",
        "colab": {
          "base_uri": "https://localhost:8080/",
          "height": 73
        }
      },
      "source": [
        "!gsutil cp gs://data-fraud-detection/X_test_cat.parquet X_test_cat.parquet\n",
        "X_test_new = pd.read_parquet('X_test_cat.parquet')"
      ],
      "execution_count": 0,
      "outputs": [
        {
          "output_type": "stream",
          "text": [
            "Copying gs://data-fraud-detection/X_test_cat.parquet...\n",
            "| [1 files][ 26.9 MiB/ 26.9 MiB]                                                \n",
            "Operation completed over 1 objects/26.9 MiB.                                     \n"
          ],
          "name": "stdout"
        }
      ]
    },
    {
      "cell_type": "code",
      "metadata": {
        "id": "s1reqeT5WGx7",
        "colab_type": "code",
        "outputId": "27beec58-24b8-4e92-8f43-83a0a829b5da",
        "colab": {
          "base_uri": "https://localhost:8080/",
          "height": 73
        }
      },
      "source": [
        "!gsutil cp gs://data-fraud-detection/y_train_values.pickle y_train_values.pickle\n",
        "y_train_values = pickle.load(open('y_train_values.pickle','rb'))\n",
        "!rm y_train_values.pickle"
      ],
      "execution_count": 0,
      "outputs": [
        {
          "output_type": "stream",
          "text": [
            "Copying gs://data-fraud-detection/y_train_values.pickle...\n",
            "\\ [1 files][ 10.8 MiB/ 10.8 MiB]                                                \n",
            "Operation completed over 1 objects/10.8 MiB.                                     \n"
          ],
          "name": "stdout"
        }
      ]
    },
    {
      "cell_type": "code",
      "metadata": {
        "id": "K61xacxlDt-N",
        "colab_type": "code",
        "outputId": "3a76f2d0-72b8-4d75-ee03-b4f603b0c50c",
        "colab": {
          "base_uri": "https://localhost:8080/",
          "height": 36
        }
      },
      "source": [
        "X_train_new.shape"
      ],
      "execution_count": 0,
      "outputs": [
        {
          "output_type": "execute_result",
          "data": {
            "text/plain": [
              "(472432, 519)"
            ]
          },
          "metadata": {
            "tags": []
          },
          "execution_count": 6
        }
      ]
    },
    {
      "cell_type": "code",
      "metadata": {
        "id": "y5FV4FPKE5QF",
        "colab_type": "code",
        "colab": {}
      },
      "source": [
        "X_train_new.drop(columns=['TransactionID','index_row','device_version'],inplace=True)\n",
        "X_test_new.drop(columns=['TransactionID','index_row','device_version'],inplace=True)"
      ],
      "execution_count": 0,
      "outputs": []
    },
    {
      "cell_type": "code",
      "metadata": {
        "id": "eNFQrMRoWPYE",
        "colab_type": "code",
        "outputId": "1a996506-980d-45c4-ec96-34ced71cd485",
        "colab": {
          "base_uri": "https://localhost:8080/",
          "height": 73
        }
      },
      "source": [
        "!gsutil cp gs://data-fraud-detection/y_test_values.pickle y_test_values.pickle\n",
        "y_test_values = pickle.load(open('y_test_values.pickle','rb'))\n",
        "!rm y_test_values.pickle"
      ],
      "execution_count": 0,
      "outputs": [
        {
          "output_type": "stream",
          "text": [
            "Copying gs://data-fraud-detection/y_test_values.pickle...\n",
            "- [1 files][  2.7 MiB/  2.7 MiB]                                                \n",
            "Operation completed over 1 objects/2.7 MiB.                                      \n"
          ],
          "name": "stdout"
        }
      ]
    },
    {
      "cell_type": "code",
      "metadata": {
        "id": "sViACgg4B_Z4",
        "colab_type": "code",
        "outputId": "64c2afe7-fccd-46bb-e314-75b5e8c6dd17",
        "colab": {
          "base_uri": "https://localhost:8080/",
          "height": 73
        }
      },
      "source": [
        "!gsutil cp gs://data-fraud-detection/categorical_features.pickle categorical_features.pickle\n",
        "categorical_features= pickle.load(open('categorical_features.pickle','rb'))\n",
        "!rm categorical_features.pickle"
      ],
      "execution_count": 0,
      "outputs": [
        {
          "output_type": "stream",
          "text": [
            "Copying gs://data-fraud-detection/categorical_features.pickle...\n",
            "- [1 files][  2.2 MiB/  2.2 MiB]                                                \n",
            "Operation completed over 1 objects/2.2 MiB.                                      \n"
          ],
          "name": "stdout"
        }
      ]
    },
    {
      "cell_type": "code",
      "metadata": {
        "id": "qxiigTJyDjFe",
        "colab_type": "code",
        "outputId": "0428e3fc-252e-4ee9-94db-71d0d4819b3a",
        "colab": {
          "base_uri": "https://localhost:8080/",
          "height": 54
        }
      },
      "source": [
        "cat_features = []\n",
        "\n",
        "for i in range(X_train_new.shape[1]):\n",
        "  if X_train_new.columns[i] in categorical_features:\n",
        "    cat_features.append(i)\n",
        "    \n",
        "print(len(cat_features))\n",
        "print(len(categorical_features))"
      ],
      "execution_count": 0,
      "outputs": [
        {
          "output_type": "stream",
          "text": [
            "64\n",
            "64\n"
          ],
          "name": "stdout"
        }
      ]
    },
    {
      "cell_type": "code",
      "metadata": {
        "id": "HWI4zfRuDSWo",
        "colab_type": "code",
        "colab": {}
      },
      "source": [
        "from catboost import Pool\n",
        "\n",
        "train_pool = Pool(\n",
        "    data=X_train_new, \n",
        "    label=y_train_values, \n",
        "    cat_features=cat_features\n",
        ")\n",
        "\n",
        "validation_pool = Pool(\n",
        "    data=X_test_new, \n",
        "    label=y_test_values, \n",
        "    cat_features=cat_features\n",
        ")"
      ],
      "execution_count": 0,
      "outputs": []
    },
    {
      "cell_type": "code",
      "metadata": {
        "id": "-YYtrhrvEHiM",
        "colab_type": "code",
        "outputId": "13ec8188-4992-4913-caeb-73e552a01f2e",
        "colab": {
          "base_uri": "https://localhost:8080/",
          "height": 557
        }
      },
      "source": [
        "%%time\n",
        "from catboost import CatBoostClassifier\n",
        "model = CatBoostClassifier(\n",
        "    iterations=1000,\n",
        "    learning_rate=0.03,\n",
        "    # loss_function='CrossEntropy',\n",
        "    min_data_in_leaf =12,\n",
        "    one_hot_max_size=125,\n",
        "    task_type=\"GPU\",\n",
        "    early_stopping_rounds=100,\n",
        "    max_ctr_complexity=2\n",
        ")\n",
        "model.fit(train_pool, eval_set=validation_pool, verbose=50)\n",
        "\n",
        "print('Model is fitted: {}'.format(model.is_fitted()))\n",
        "print('Model params:\\n{}'.format(model.get_params()))\n",
        "\n"
      ],
      "execution_count": 0,
      "outputs": [
        {
          "output_type": "stream",
          "text": [
            "0:\tlearn: 0.6358024\ttest: 0.6357334\tbest: 0.6357334 (0)\ttotal: 111ms\tremaining: 1m 51s\n",
            "50:\tlearn: 0.0977647\ttest: 0.0942039\tbest: 0.0942039 (50)\ttotal: 3.93s\tremaining: 1m 13s\n",
            "100:\tlearn: 0.0800228\ttest: 0.0751255\tbest: 0.0751255 (100)\ttotal: 7.63s\tremaining: 1m 7s\n",
            "150:\tlearn: 0.0749970\ttest: 0.0695576\tbest: 0.0695576 (150)\ttotal: 11.3s\tremaining: 1m 3s\n",
            "200:\tlearn: 0.0719534\ttest: 0.0662360\tbest: 0.0662360 (200)\ttotal: 15s\tremaining: 59.7s\n",
            "250:\tlearn: 0.0696270\ttest: 0.0637153\tbest: 0.0637153 (250)\ttotal: 18.8s\tremaining: 56.1s\n",
            "300:\tlearn: 0.0679821\ttest: 0.0618282\tbest: 0.0618282 (300)\ttotal: 22.8s\tremaining: 52.9s\n",
            "350:\tlearn: 0.0668408\ttest: 0.0606123\tbest: 0.0606123 (350)\ttotal: 26.7s\tremaining: 49.3s\n",
            "400:\tlearn: 0.0658013\ttest: 0.0595014\tbest: 0.0595014 (400)\ttotal: 30.7s\tremaining: 45.9s\n",
            "450:\tlearn: 0.0647656\ttest: 0.0584082\tbest: 0.0584082 (450)\ttotal: 34.7s\tremaining: 42.3s\n",
            "500:\tlearn: 0.0640168\ttest: 0.0576392\tbest: 0.0576392 (500)\ttotal: 38.8s\tremaining: 38.7s\n",
            "550:\tlearn: 0.0634226\ttest: 0.0570754\tbest: 0.0570754 (550)\ttotal: 42.9s\tremaining: 35s\n",
            "600:\tlearn: 0.0629033\ttest: 0.0565962\tbest: 0.0565962 (600)\ttotal: 47s\tremaining: 31.2s\n",
            "650:\tlearn: 0.0623404\ttest: 0.0560698\tbest: 0.0560698 (650)\ttotal: 51.2s\tremaining: 27.4s\n",
            "700:\tlearn: 0.0617959\ttest: 0.0555352\tbest: 0.0555352 (700)\ttotal: 55.4s\tremaining: 23.6s\n",
            "750:\tlearn: 0.0612918\ttest: 0.0550175\tbest: 0.0550175 (750)\ttotal: 59.4s\tremaining: 19.7s\n",
            "800:\tlearn: 0.0608804\ttest: 0.0546499\tbest: 0.0546499 (800)\ttotal: 1m 3s\tremaining: 15.8s\n",
            "850:\tlearn: 0.0604697\ttest: 0.0542713\tbest: 0.0542713 (850)\ttotal: 1m 7s\tremaining: 11.8s\n",
            "900:\tlearn: 0.0601486\ttest: 0.0540212\tbest: 0.0540212 (900)\ttotal: 1m 11s\tremaining: 7.89s\n",
            "950:\tlearn: 0.0598525\ttest: 0.0537833\tbest: 0.0537833 (950)\ttotal: 1m 15s\tremaining: 3.91s\n",
            "999:\tlearn: 0.0594762\ttest: 0.0534376\tbest: 0.0534376 (999)\ttotal: 1m 20s\tremaining: 0us\n",
            "bestTest = 0.0534375764\n",
            "bestIteration = 999\n",
            "Shrink model to first 1000 iterations.\n",
            "Model is fitted: True\n",
            "Model params:\n",
            "{'min_data_in_leaf': 12, 'early_stopping_rounds': 100, 'task_type': 'GPU', 'one_hot_max_size': 125, 'max_ctr_complexity': 2, 'learning_rate': 0.03, 'iterations': 1000}\n",
            "CPU times: user 1min 39s, sys: 30.1 s, total: 2min 9s\n",
            "Wall time: 1min 32s\n"
          ],
          "name": "stdout"
        }
      ]
    },
    {
      "cell_type": "code",
      "metadata": {
        "id": "LoQhvZUJhMVB",
        "colab_type": "code",
        "colab": {}
      },
      "source": [
        "\n",
        "fi_array=np.array(model.get_feature_importance(prettified=True))\n",
        "df_feature_importance = pd.DataFrame({'feature': fi_array[:,0],'feature_importance': fi_array[:,1]})"
      ],
      "execution_count": 0,
      "outputs": []
    },
    {
      "cell_type": "code",
      "metadata": {
        "id": "ZsvEAwjajBwN",
        "colab_type": "code",
        "outputId": "433a4b38-b097-4a39-a4f3-1c05bc92cac1",
        "colab": {
          "base_uri": "https://localhost:8080/",
          "height": 36
        }
      },
      "source": [
        "features_ok = df_feature_importance.loc[df_feature_importance.feature_importance >=0.05].feature\n",
        "len(features_ok)"
      ],
      "execution_count": 0,
      "outputs": [
        {
          "output_type": "execute_result",
          "data": {
            "text/plain": [
              "171"
            ]
          },
          "metadata": {
            "tags": []
          },
          "execution_count": 33
        }
      ]
    },
    {
      "cell_type": "code",
      "metadata": {
        "id": "Dbkyt5aFjeBc",
        "colab_type": "code",
        "colab": {}
      },
      "source": [
        "new_cat_features = []\n",
        "\n",
        "X_train_trunc = X_train_new[features_ok]\n",
        "X_test_trunc = X_test_new[features_ok]\n",
        "for i in range(X_train_trunc.shape[1]):\n",
        "  if X_train_trunc.columns[i] in categorical_features and X_train_trunc.columns[i] in features_ok.tolist():\n",
        "    new_cat_features.append(i)"
      ],
      "execution_count": 0,
      "outputs": []
    },
    {
      "cell_type": "code",
      "metadata": {
        "id": "66iy6L0Wjm-W",
        "colab_type": "code",
        "outputId": "ed492ac8-66e9-41ee-b024-862b32bbdbe8",
        "colab": {
          "base_uri": "https://localhost:8080/",
          "height": 36
        }
      },
      "source": [
        "len(new_cat_features)"
      ],
      "execution_count": 0,
      "outputs": [
        {
          "output_type": "execute_result",
          "data": {
            "text/plain": [
              "32"
            ]
          },
          "metadata": {
            "tags": []
          },
          "execution_count": 36
        }
      ]
    },
    {
      "cell_type": "code",
      "metadata": {
        "id": "_qN-OIQqjdZ4",
        "colab_type": "code",
        "colab": {}
      },
      "source": [
        "train_pool = Pool(\n",
        "    data=X_train_trunc, \n",
        "    label=y_train_values, \n",
        "    cat_features=new_cat_features\n",
        ")\n",
        "\n",
        "validation_pool = Pool(\n",
        "    data=X_test_trunc, \n",
        "    label=y_test_values, \n",
        "    cat_features=new_cat_features\n",
        ")"
      ],
      "execution_count": 0,
      "outputs": []
    },
    {
      "cell_type": "code",
      "metadata": {
        "id": "umdTjmoqjX7c",
        "colab_type": "code",
        "outputId": "3ec7c7ed-1e9a-456e-a929-0b294ab7bc02",
        "colab": {
          "base_uri": "https://localhost:8080/",
          "height": 1000
        }
      },
      "source": [
        "%%time\n",
        "from catboost import CatBoostClassifier\n",
        "model = CatBoostClassifier(\n",
        "    iterations=8000,\n",
        "    learning_rate=0.01,\n",
        "    # loss_function='CrossEntropy',\n",
        "    min_data_in_leaf =12,\n",
        "    one_hot_max_size=200,\n",
        "    task_type=\"GPU\",\n",
        "    early_stopping_rounds=100,\n",
        "    max_ctr_complexity=2\n",
        ")\n",
        "model.fit(train_pool, eval_set=validation_pool, verbose=50)\n",
        "\n",
        "print('Model is fitted: {}'.format(model.is_fitted()))\n",
        "print('Model params:\\n{}'.format(model.get_params()))"
      ],
      "execution_count": 0,
      "outputs": [
        {
          "output_type": "stream",
          "text": [
            "0:\tlearn: 0.6741512\ttest: 0.6741073\tbest: 0.6741073 (0)\ttotal: 118ms\tremaining: 15m 44s\n",
            "50:\tlearn: 0.2207387\ttest: 0.2190764\tbest: 0.2190764 (50)\ttotal: 3.6s\tremaining: 9m 21s\n",
            "100:\tlearn: 0.1262461\ttest: 0.1233915\tbest: 0.1233915 (100)\ttotal: 7.15s\tremaining: 9m 19s\n",
            "150:\tlearn: 0.0982756\ttest: 0.0945788\tbest: 0.0945788 (150)\ttotal: 10.9s\tremaining: 9m 26s\n",
            "200:\tlearn: 0.0880753\ttest: 0.0837105\tbest: 0.0837105 (200)\ttotal: 14.5s\tremaining: 9m 22s\n",
            "250:\tlearn: 0.0828551\ttest: 0.0780974\tbest: 0.0780974 (250)\ttotal: 18s\tremaining: 9m 17s\n",
            "300:\tlearn: 0.0797857\ttest: 0.0747092\tbest: 0.0747092 (300)\ttotal: 21.6s\tremaining: 9m 11s\n",
            "350:\tlearn: 0.0774931\ttest: 0.0722010\tbest: 0.0722010 (350)\ttotal: 25.1s\tremaining: 9m 6s\n",
            "400:\tlearn: 0.0759919\ttest: 0.0705839\tbest: 0.0705839 (400)\ttotal: 28.6s\tremaining: 9m 1s\n",
            "450:\tlearn: 0.0746218\ttest: 0.0690621\tbest: 0.0690621 (450)\ttotal: 32.2s\tremaining: 8m 58s\n",
            "500:\tlearn: 0.0734276\ttest: 0.0677643\tbest: 0.0677643 (500)\ttotal: 35.7s\tremaining: 8m 54s\n",
            "550:\tlearn: 0.0723962\ttest: 0.0666703\tbest: 0.0666703 (550)\ttotal: 39.4s\tremaining: 8m 52s\n",
            "600:\tlearn: 0.0715002\ttest: 0.0657325\tbest: 0.0657325 (600)\ttotal: 43s\tremaining: 8m 49s\n",
            "650:\tlearn: 0.0706054\ttest: 0.0647206\tbest: 0.0647206 (650)\ttotal: 46.6s\tremaining: 8m 45s\n",
            "700:\tlearn: 0.0699032\ttest: 0.0639464\tbest: 0.0639464 (700)\ttotal: 50.4s\tremaining: 8m 44s\n",
            "750:\tlearn: 0.0692092\ttest: 0.0631484\tbest: 0.0631484 (750)\ttotal: 54s\tremaining: 8m 40s\n",
            "800:\tlearn: 0.0685386\ttest: 0.0623309\tbest: 0.0623309 (800)\ttotal: 57.5s\tremaining: 8m 36s\n",
            "850:\tlearn: 0.0680268\ttest: 0.0617837\tbest: 0.0617837 (850)\ttotal: 1m 1s\tremaining: 8m 34s\n",
            "900:\tlearn: 0.0675782\ttest: 0.0613258\tbest: 0.0613258 (900)\ttotal: 1m 4s\tremaining: 8m 30s\n",
            "950:\tlearn: 0.0671160\ttest: 0.0608139\tbest: 0.0608139 (950)\ttotal: 1m 8s\tremaining: 8m 28s\n",
            "1000:\tlearn: 0.0667070\ttest: 0.0603440\tbest: 0.0603440 (1000)\ttotal: 1m 12s\tremaining: 8m 24s\n",
            "1050:\tlearn: 0.0663246\ttest: 0.0599261\tbest: 0.0599261 (1050)\ttotal: 1m 15s\tremaining: 8m 21s\n",
            "1100:\tlearn: 0.0659944\ttest: 0.0595820\tbest: 0.0595820 (1100)\ttotal: 1m 19s\tremaining: 8m 17s\n",
            "1150:\tlearn: 0.0656225\ttest: 0.0591947\tbest: 0.0591947 (1150)\ttotal: 1m 23s\tremaining: 8m 14s\n",
            "1200:\tlearn: 0.0653308\ttest: 0.0588869\tbest: 0.0588869 (1200)\ttotal: 1m 26s\tremaining: 8m 11s\n",
            "1250:\tlearn: 0.0650433\ttest: 0.0585797\tbest: 0.0585797 (1250)\ttotal: 1m 30s\tremaining: 8m 8s\n",
            "1300:\tlearn: 0.0648048\ttest: 0.0583527\tbest: 0.0583527 (1300)\ttotal: 1m 34s\tremaining: 8m 5s\n",
            "1350:\tlearn: 0.0645492\ttest: 0.0580962\tbest: 0.0580962 (1350)\ttotal: 1m 38s\tremaining: 8m 2s\n",
            "1400:\tlearn: 0.0642425\ttest: 0.0577938\tbest: 0.0577938 (1400)\ttotal: 1m 41s\tremaining: 7m 59s\n",
            "1450:\tlearn: 0.0640452\ttest: 0.0575947\tbest: 0.0575947 (1450)\ttotal: 1m 45s\tremaining: 7m 57s\n",
            "1500:\tlearn: 0.0638226\ttest: 0.0573805\tbest: 0.0573805 (1499)\ttotal: 1m 49s\tremaining: 7m 53s\n",
            "1550:\tlearn: 0.0636330\ttest: 0.0572123\tbest: 0.0572123 (1550)\ttotal: 1m 53s\tremaining: 7m 51s\n",
            "1600:\tlearn: 0.0634420\ttest: 0.0570288\tbest: 0.0570288 (1600)\ttotal: 1m 57s\tremaining: 7m 48s\n",
            "1650:\tlearn: 0.0632084\ttest: 0.0567847\tbest: 0.0567847 (1650)\ttotal: 2m 1s\tremaining: 7m 45s\n",
            "1700:\tlearn: 0.0630057\ttest: 0.0565987\tbest: 0.0565987 (1700)\ttotal: 2m 4s\tremaining: 7m 42s\n",
            "1750:\tlearn: 0.0628106\ttest: 0.0564092\tbest: 0.0564092 (1750)\ttotal: 2m 8s\tremaining: 7m 38s\n",
            "1800:\tlearn: 0.0626335\ttest: 0.0562333\tbest: 0.0562333 (1800)\ttotal: 2m 12s\tremaining: 7m 35s\n",
            "1850:\tlearn: 0.0624554\ttest: 0.0560785\tbest: 0.0560785 (1850)\ttotal: 2m 16s\tremaining: 7m 32s\n",
            "1900:\tlearn: 0.0622979\ttest: 0.0559221\tbest: 0.0559221 (1900)\ttotal: 2m 20s\tremaining: 7m 29s\n",
            "1950:\tlearn: 0.0621135\ttest: 0.0557586\tbest: 0.0557586 (1950)\ttotal: 2m 23s\tremaining: 7m 26s\n",
            "2000:\tlearn: 0.0619456\ttest: 0.0556023\tbest: 0.0556023 (2000)\ttotal: 2m 27s\tremaining: 7m 23s\n",
            "2050:\tlearn: 0.0617880\ttest: 0.0554545\tbest: 0.0554545 (2050)\ttotal: 2m 31s\tremaining: 7m 20s\n",
            "2100:\tlearn: 0.0616484\ttest: 0.0553380\tbest: 0.0553380 (2100)\ttotal: 2m 35s\tremaining: 7m 16s\n",
            "2150:\tlearn: 0.0614991\ttest: 0.0551966\tbest: 0.0551966 (2150)\ttotal: 2m 39s\tremaining: 7m 13s\n",
            "2200:\tlearn: 0.0613179\ttest: 0.0550334\tbest: 0.0550334 (2200)\ttotal: 2m 43s\tremaining: 7m 10s\n",
            "2250:\tlearn: 0.0611765\ttest: 0.0549098\tbest: 0.0549098 (2250)\ttotal: 2m 47s\tremaining: 7m 6s\n",
            "2300:\tlearn: 0.0610246\ttest: 0.0547775\tbest: 0.0547775 (2300)\ttotal: 2m 50s\tremaining: 7m 2s\n",
            "2350:\tlearn: 0.0608771\ttest: 0.0546457\tbest: 0.0546457 (2350)\ttotal: 2m 54s\tremaining: 6m 59s\n",
            "2400:\tlearn: 0.0607101\ttest: 0.0544967\tbest: 0.0544967 (2400)\ttotal: 2m 58s\tremaining: 6m 55s\n",
            "2450:\tlearn: 0.0605823\ttest: 0.0543842\tbest: 0.0543842 (2450)\ttotal: 3m 2s\tremaining: 6m 52s\n",
            "2500:\tlearn: 0.0604561\ttest: 0.0542744\tbest: 0.0542744 (2500)\ttotal: 3m 5s\tremaining: 6m 48s\n",
            "2550:\tlearn: 0.0603188\ttest: 0.0541496\tbest: 0.0541496 (2550)\ttotal: 3m 9s\tremaining: 6m 45s\n",
            "2600:\tlearn: 0.0601995\ttest: 0.0540377\tbest: 0.0540377 (2600)\ttotal: 3m 13s\tremaining: 6m 41s\n",
            "2650:\tlearn: 0.0600427\ttest: 0.0538997\tbest: 0.0538997 (2650)\ttotal: 3m 17s\tremaining: 6m 38s\n",
            "2700:\tlearn: 0.0599270\ttest: 0.0538009\tbest: 0.0538009 (2700)\ttotal: 3m 21s\tremaining: 6m 34s\n",
            "2750:\tlearn: 0.0597864\ttest: 0.0536713\tbest: 0.0536713 (2750)\ttotal: 3m 24s\tremaining: 6m 31s\n",
            "2800:\tlearn: 0.0596674\ttest: 0.0535689\tbest: 0.0535689 (2800)\ttotal: 3m 28s\tremaining: 6m 27s\n",
            "2850:\tlearn: 0.0595528\ttest: 0.0534667\tbest: 0.0534667 (2850)\ttotal: 3m 32s\tremaining: 6m 23s\n",
            "2900:\tlearn: 0.0594393\ttest: 0.0533732\tbest: 0.0533732 (2900)\ttotal: 3m 36s\tremaining: 6m 20s\n",
            "2950:\tlearn: 0.0593218\ttest: 0.0532690\tbest: 0.0532690 (2950)\ttotal: 3m 40s\tremaining: 6m 16s\n",
            "3000:\tlearn: 0.0591886\ttest: 0.0531396\tbest: 0.0531396 (3000)\ttotal: 3m 43s\tremaining: 6m 13s\n",
            "3050:\tlearn: 0.0590610\ttest: 0.0530248\tbest: 0.0530248 (3050)\ttotal: 3m 47s\tremaining: 6m 9s\n",
            "3100:\tlearn: 0.0589493\ttest: 0.0529323\tbest: 0.0529323 (3100)\ttotal: 3m 51s\tremaining: 6m 5s\n",
            "3150:\tlearn: 0.0588347\ttest: 0.0528383\tbest: 0.0528383 (3150)\ttotal: 3m 55s\tremaining: 6m 2s\n",
            "3200:\tlearn: 0.0587254\ttest: 0.0527383\tbest: 0.0527383 (3200)\ttotal: 3m 59s\tremaining: 5m 58s\n",
            "3250:\tlearn: 0.0586196\ttest: 0.0526453\tbest: 0.0526453 (3250)\ttotal: 4m 3s\tremaining: 5m 55s\n",
            "3300:\tlearn: 0.0584914\ttest: 0.0525319\tbest: 0.0525319 (3300)\ttotal: 4m 6s\tremaining: 5m 51s\n",
            "3350:\tlearn: 0.0583934\ttest: 0.0524481\tbest: 0.0524481 (3350)\ttotal: 4m 10s\tremaining: 5m 47s\n",
            "3400:\tlearn: 0.0582876\ttest: 0.0523606\tbest: 0.0523606 (3400)\ttotal: 4m 14s\tremaining: 5m 44s\n",
            "3450:\tlearn: 0.0581897\ttest: 0.0522786\tbest: 0.0522786 (3450)\ttotal: 4m 18s\tremaining: 5m 40s\n",
            "3500:\tlearn: 0.0580954\ttest: 0.0522036\tbest: 0.0522036 (3500)\ttotal: 4m 22s\tremaining: 5m 37s\n",
            "3550:\tlearn: 0.0580067\ttest: 0.0521328\tbest: 0.0521328 (3550)\ttotal: 4m 26s\tremaining: 5m 33s\n",
            "3600:\tlearn: 0.0579113\ttest: 0.0520566\tbest: 0.0520566 (3600)\ttotal: 4m 30s\tremaining: 5m 29s\n",
            "3650:\tlearn: 0.0578311\ttest: 0.0519871\tbest: 0.0519871 (3650)\ttotal: 4m 33s\tremaining: 5m 26s\n",
            "3700:\tlearn: 0.0577375\ttest: 0.0519077\tbest: 0.0519077 (3699)\ttotal: 4m 37s\tremaining: 5m 22s\n",
            "3750:\tlearn: 0.0576348\ttest: 0.0518127\tbest: 0.0518127 (3750)\ttotal: 4m 41s\tremaining: 5m 18s\n",
            "3800:\tlearn: 0.0575413\ttest: 0.0517261\tbest: 0.0517261 (3800)\ttotal: 4m 45s\tremaining: 5m 15s\n",
            "3850:\tlearn: 0.0574410\ttest: 0.0516473\tbest: 0.0516473 (3850)\ttotal: 4m 49s\tremaining: 5m 11s\n",
            "3900:\tlearn: 0.0573536\ttest: 0.0515831\tbest: 0.0515831 (3900)\ttotal: 4m 52s\tremaining: 5m 7s\n",
            "3950:\tlearn: 0.0572491\ttest: 0.0514893\tbest: 0.0514893 (3950)\ttotal: 4m 56s\tremaining: 5m 3s\n",
            "4000:\tlearn: 0.0571737\ttest: 0.0514313\tbest: 0.0514313 (4000)\ttotal: 5m\tremaining: 5m\n",
            "4050:\tlearn: 0.0571009\ttest: 0.0513765\tbest: 0.0513765 (4050)\ttotal: 5m 4s\tremaining: 4m 56s\n",
            "4100:\tlearn: 0.0570132\ttest: 0.0512991\tbest: 0.0512991 (4100)\ttotal: 5m 8s\tremaining: 4m 52s\n",
            "4150:\tlearn: 0.0569326\ttest: 0.0512357\tbest: 0.0512357 (4150)\ttotal: 5m 11s\tremaining: 4m 49s\n",
            "4200:\tlearn: 0.0568646\ttest: 0.0511862\tbest: 0.0511862 (4200)\ttotal: 5m 15s\tremaining: 4m 45s\n",
            "4250:\tlearn: 0.0567772\ttest: 0.0511130\tbest: 0.0511130 (4250)\ttotal: 5m 19s\tremaining: 4m 41s\n",
            "4300:\tlearn: 0.0566749\ttest: 0.0510197\tbest: 0.0510197 (4300)\ttotal: 5m 23s\tremaining: 4m 37s\n",
            "4350:\tlearn: 0.0565859\ttest: 0.0509509\tbest: 0.0509509 (4350)\ttotal: 5m 26s\tremaining: 4m 34s\n",
            "4400:\tlearn: 0.0564889\ttest: 0.0508711\tbest: 0.0508711 (4400)\ttotal: 5m 30s\tremaining: 4m 30s\n",
            "4450:\tlearn: 0.0563927\ttest: 0.0507837\tbest: 0.0507837 (4450)\ttotal: 5m 34s\tremaining: 4m 26s\n",
            "4500:\tlearn: 0.0563085\ttest: 0.0507160\tbest: 0.0507160 (4500)\ttotal: 5m 38s\tremaining: 4m 23s\n",
            "4550:\tlearn: 0.0562368\ttest: 0.0506664\tbest: 0.0506664 (4550)\ttotal: 5m 42s\tremaining: 4m 19s\n",
            "4600:\tlearn: 0.0561713\ttest: 0.0506193\tbest: 0.0506193 (4600)\ttotal: 5m 46s\tremaining: 4m 15s\n",
            "4650:\tlearn: 0.0560858\ttest: 0.0505494\tbest: 0.0505494 (4650)\ttotal: 5m 49s\tremaining: 4m 11s\n",
            "4700:\tlearn: 0.0560084\ttest: 0.0504952\tbest: 0.0504952 (4700)\ttotal: 5m 53s\tremaining: 4m 8s\n",
            "4750:\tlearn: 0.0559301\ttest: 0.0504342\tbest: 0.0504342 (4750)\ttotal: 5m 57s\tremaining: 4m 4s\n",
            "4800:\tlearn: 0.0558423\ttest: 0.0503621\tbest: 0.0503621 (4800)\ttotal: 6m 1s\tremaining: 4m\n",
            "4850:\tlearn: 0.0557529\ttest: 0.0502806\tbest: 0.0502806 (4850)\ttotal: 6m 4s\tremaining: 3m 56s\n",
            "4900:\tlearn: 0.0556977\ttest: 0.0502377\tbest: 0.0502377 (4900)\ttotal: 6m 8s\tremaining: 3m 53s\n",
            "4950:\tlearn: 0.0556388\ttest: 0.0501942\tbest: 0.0501942 (4950)\ttotal: 6m 12s\tremaining: 3m 49s\n",
            "5000:\tlearn: 0.0555779\ttest: 0.0501565\tbest: 0.0501565 (5000)\ttotal: 6m 16s\tremaining: 3m 45s\n",
            "5050:\tlearn: 0.0555090\ttest: 0.0501036\tbest: 0.0501036 (5050)\ttotal: 6m 19s\tremaining: 3m 41s\n",
            "5100:\tlearn: 0.0554417\ttest: 0.0500521\tbest: 0.0500521 (5100)\ttotal: 6m 23s\tremaining: 3m 38s\n",
            "5150:\tlearn: 0.0553598\ttest: 0.0499792\tbest: 0.0499791 (5149)\ttotal: 6m 27s\tremaining: 3m 34s\n",
            "5200:\tlearn: 0.0552988\ttest: 0.0499366\tbest: 0.0499366 (5200)\ttotal: 6m 31s\tremaining: 3m 30s\n",
            "5250:\tlearn: 0.0552422\ttest: 0.0498948\tbest: 0.0498948 (5249)\ttotal: 6m 35s\tremaining: 3m 26s\n",
            "5300:\tlearn: 0.0551663\ttest: 0.0498326\tbest: 0.0498326 (5300)\ttotal: 6m 38s\tremaining: 3m 23s\n",
            "5350:\tlearn: 0.0551042\ttest: 0.0497916\tbest: 0.0497916 (5350)\ttotal: 6m 42s\tremaining: 3m 19s\n",
            "5400:\tlearn: 0.0550427\ttest: 0.0497478\tbest: 0.0497478 (5400)\ttotal: 6m 46s\tremaining: 3m 15s\n",
            "5450:\tlearn: 0.0549746\ttest: 0.0496991\tbest: 0.0496991 (5450)\ttotal: 6m 50s\tremaining: 3m 11s\n",
            "5500:\tlearn: 0.0549076\ttest: 0.0496421\tbest: 0.0496421 (5500)\ttotal: 6m 53s\tremaining: 3m 8s\n",
            "5550:\tlearn: 0.0548514\ttest: 0.0495998\tbest: 0.0495998 (5550)\ttotal: 6m 57s\tremaining: 3m 4s\n",
            "5600:\tlearn: 0.0547960\ttest: 0.0495646\tbest: 0.0495646 (5600)\ttotal: 7m 1s\tremaining: 3m\n",
            "5650:\tlearn: 0.0547197\ttest: 0.0495057\tbest: 0.0495057 (5649)\ttotal: 7m 5s\tremaining: 2m 56s\n",
            "5700:\tlearn: 0.0546488\ttest: 0.0494545\tbest: 0.0494545 (5700)\ttotal: 7m 9s\tremaining: 2m 53s\n",
            "5750:\tlearn: 0.0545929\ttest: 0.0494145\tbest: 0.0494145 (5750)\ttotal: 7m 12s\tremaining: 2m 49s\n",
            "5800:\tlearn: 0.0545351\ttest: 0.0493713\tbest: 0.0493713 (5800)\ttotal: 7m 16s\tremaining: 2m 45s\n",
            "5850:\tlearn: 0.0544701\ttest: 0.0493214\tbest: 0.0493214 (5850)\ttotal: 7m 20s\tremaining: 2m 41s\n",
            "5900:\tlearn: 0.0544061\ttest: 0.0492762\tbest: 0.0492762 (5900)\ttotal: 7m 24s\tremaining: 2m 38s\n",
            "5950:\tlearn: 0.0543499\ttest: 0.0492333\tbest: 0.0492333 (5950)\ttotal: 7m 28s\tremaining: 2m 34s\n",
            "6000:\tlearn: 0.0542832\ttest: 0.0491804\tbest: 0.0491804 (6000)\ttotal: 7m 31s\tremaining: 2m 30s\n",
            "6050:\tlearn: 0.0542266\ttest: 0.0491421\tbest: 0.0491421 (6050)\ttotal: 7m 35s\tremaining: 2m 26s\n",
            "6100:\tlearn: 0.0541637\ttest: 0.0490908\tbest: 0.0490908 (6100)\ttotal: 7m 39s\tremaining: 2m 22s\n",
            "6150:\tlearn: 0.0541013\ttest: 0.0490418\tbest: 0.0490417 (6149)\ttotal: 7m 43s\tremaining: 2m 19s\n",
            "6200:\tlearn: 0.0540373\ttest: 0.0489953\tbest: 0.0489953 (6200)\ttotal: 7m 46s\tremaining: 2m 15s\n",
            "6250:\tlearn: 0.0539765\ttest: 0.0489515\tbest: 0.0489515 (6250)\ttotal: 7m 50s\tremaining: 2m 11s\n",
            "6300:\tlearn: 0.0539222\ttest: 0.0489155\tbest: 0.0489154 (6299)\ttotal: 7m 54s\tremaining: 2m 7s\n",
            "6350:\tlearn: 0.0538674\ttest: 0.0488762\tbest: 0.0488762 (6350)\ttotal: 7m 58s\tremaining: 2m 4s\n",
            "6400:\tlearn: 0.0538103\ttest: 0.0488405\tbest: 0.0488405 (6400)\ttotal: 8m 2s\tremaining: 2m\n",
            "6450:\tlearn: 0.0537495\ttest: 0.0487978\tbest: 0.0487978 (6450)\ttotal: 8m 5s\tremaining: 1m 56s\n",
            "6500:\tlearn: 0.0536965\ttest: 0.0487594\tbest: 0.0487593 (6499)\ttotal: 8m 9s\tremaining: 1m 52s\n",
            "6550:\tlearn: 0.0536383\ttest: 0.0487138\tbest: 0.0487138 (6549)\ttotal: 8m 13s\tremaining: 1m 49s\n",
            "6600:\tlearn: 0.0535809\ttest: 0.0486699\tbest: 0.0486699 (6600)\ttotal: 8m 17s\tremaining: 1m 45s\n",
            "6650:\tlearn: 0.0535214\ttest: 0.0486256\tbest: 0.0486256 (6650)\ttotal: 8m 21s\tremaining: 1m 41s\n",
            "6700:\tlearn: 0.0534703\ttest: 0.0485923\tbest: 0.0485923 (6700)\ttotal: 8m 24s\tremaining: 1m 37s\n",
            "6750:\tlearn: 0.0534197\ttest: 0.0485544\tbest: 0.0485544 (6750)\ttotal: 8m 28s\tremaining: 1m 34s\n",
            "6800:\tlearn: 0.0533749\ttest: 0.0485267\tbest: 0.0485267 (6800)\ttotal: 8m 32s\tremaining: 1m 30s\n",
            "6850:\tlearn: 0.0533280\ttest: 0.0484992\tbest: 0.0484992 (6850)\ttotal: 8m 36s\tremaining: 1m 26s\n",
            "6900:\tlearn: 0.0532769\ttest: 0.0484618\tbest: 0.0484618 (6900)\ttotal: 8m 39s\tremaining: 1m 22s\n",
            "6950:\tlearn: 0.0532276\ttest: 0.0484274\tbest: 0.0484274 (6950)\ttotal: 8m 43s\tremaining: 1m 19s\n",
            "7000:\tlearn: 0.0531731\ttest: 0.0483874\tbest: 0.0483874 (7000)\ttotal: 8m 47s\tremaining: 1m 15s\n",
            "7050:\tlearn: 0.0531198\ttest: 0.0483519\tbest: 0.0483519 (7050)\ttotal: 8m 51s\tremaining: 1m 11s\n",
            "7100:\tlearn: 0.0530588\ttest: 0.0483077\tbest: 0.0483077 (7100)\ttotal: 8m 54s\tremaining: 1m 7s\n",
            "7150:\tlearn: 0.0530128\ttest: 0.0482773\tbest: 0.0482773 (7150)\ttotal: 8m 58s\tremaining: 1m 3s\n",
            "7200:\tlearn: 0.0529523\ttest: 0.0482342\tbest: 0.0482342 (7199)\ttotal: 9m 2s\tremaining: 1m\n",
            "7250:\tlearn: 0.0528993\ttest: 0.0481962\tbest: 0.0481962 (7250)\ttotal: 9m 6s\tremaining: 56.4s\n",
            "7300:\tlearn: 0.0528538\ttest: 0.0481637\tbest: 0.0481637 (7299)\ttotal: 9m 9s\tremaining: 52.7s\n",
            "7350:\tlearn: 0.0528094\ttest: 0.0481339\tbest: 0.0481339 (7350)\ttotal: 9m 13s\tremaining: 48.9s\n",
            "7400:\tlearn: 0.0527612\ttest: 0.0481006\tbest: 0.0481006 (7400)\ttotal: 9m 17s\tremaining: 45.1s\n",
            "7450:\tlearn: 0.0527014\ttest: 0.0480568\tbest: 0.0480568 (7450)\ttotal: 9m 21s\tremaining: 41.4s\n",
            "7500:\tlearn: 0.0526503\ttest: 0.0480221\tbest: 0.0480221 (7500)\ttotal: 9m 25s\tremaining: 37.6s\n",
            "7550:\tlearn: 0.0526019\ttest: 0.0479848\tbest: 0.0479848 (7550)\ttotal: 9m 28s\tremaining: 33.8s\n",
            "7600:\tlearn: 0.0525597\ttest: 0.0479577\tbest: 0.0479577 (7600)\ttotal: 9m 32s\tremaining: 30.1s\n",
            "7650:\tlearn: 0.0524941\ttest: 0.0479125\tbest: 0.0479125 (7650)\ttotal: 9m 36s\tremaining: 26.3s\n",
            "7700:\tlearn: 0.0524468\ttest: 0.0478834\tbest: 0.0478834 (7700)\ttotal: 9m 40s\tremaining: 22.5s\n",
            "7750:\tlearn: 0.0524070\ttest: 0.0478602\tbest: 0.0478602 (7750)\ttotal: 9m 44s\tremaining: 18.8s\n",
            "7800:\tlearn: 0.0523636\ttest: 0.0478332\tbest: 0.0478329 (7799)\ttotal: 9m 47s\tremaining: 15s\n",
            "7850:\tlearn: 0.0523197\ttest: 0.0478041\tbest: 0.0478041 (7849)\ttotal: 9m 51s\tremaining: 11.2s\n",
            "7900:\tlearn: 0.0522798\ttest: 0.0477790\tbest: 0.0477790 (7900)\ttotal: 9m 55s\tremaining: 7.46s\n",
            "7950:\tlearn: 0.0522253\ttest: 0.0477427\tbest: 0.0477427 (7950)\ttotal: 9m 59s\tremaining: 3.69s\n",
            "7999:\tlearn: 0.0521725\ttest: 0.0477066\tbest: 0.0477066 (7999)\ttotal: 10m 3s\tremaining: 0us\n",
            "bestTest = 0.04770659289\n",
            "bestIteration = 7999\n",
            "Shrink model to first 8000 iterations.\n",
            "Model is fitted: True\n",
            "Model params:\n",
            "{'min_data_in_leaf': 12, 'early_stopping_rounds': 100, 'task_type': 'GPU', 'one_hot_max_size': 200, 'max_ctr_complexity': 2, 'learning_rate': 0.01, 'iterations': 8000}\n",
            "CPU times: user 9min 29s, sys: 3min 34s, total: 13min 4s\n",
            "Wall time: 10min 30s\n"
          ],
          "name": "stdout"
        }
      ]
    },
    {
      "cell_type": "code",
      "metadata": {
        "id": "pNG-Pu5bVVZz",
        "colab_type": "code",
        "colab": {}
      },
      "source": [
        "pred = model.predict_proba(X_test_trunc)[:,1].tolist()"
      ],
      "execution_count": 0,
      "outputs": []
    },
    {
      "cell_type": "code",
      "metadata": {
        "id": "Y5NQKTBeVpGu",
        "colab_type": "code",
        "outputId": "cb3c2c28-388c-45e4-90d5-68c4d2127832",
        "colab": {
          "base_uri": "https://localhost:8080/",
          "height": 288
        }
      },
      "source": [
        "from sklearn.metrics import roc_curve, auc\n",
        "fpr,tpr,threshold=roc_curve(y_test_values,pred)\n",
        "plt.plot(fpr,tpr)"
      ],
      "execution_count": 0,
      "outputs": [
        {
          "output_type": "execute_result",
          "data": {
            "text/plain": [
              "[<matplotlib.lines.Line2D at 0x7f4d5f763208>]"
            ]
          },
          "metadata": {
            "tags": []
          },
          "execution_count": 40
        },
        {
          "output_type": "display_data",
          "data": {
            "image/png": "[encoded data removed]",
            "text/plain": [
              "<Figure size 432x288 with 1 Axes>"
            ]
          },
          "metadata": {
            "tags": []
          }
        }
      ]
    },
    {
      "cell_type": "code",
      "metadata": {
        "id": "bXdEhYGGZ_0W",
        "colab_type": "code",
        "outputId": "723f134c-eeee-40af-fe33-ee84d2e07f39",
        "colab": {
          "base_uri": "https://localhost:8080/",
          "height": 36
        }
      },
      "source": [
        "auc(fpr,tpr)"
      ],
      "execution_count": 0,
      "outputs": [
        {
          "output_type": "execute_result",
          "data": {
            "text/plain": [
              "0.96823931391335"
            ]
          },
          "metadata": {
            "tags": []
          },
          "execution_count": 41
        }
      ]
    },
    {
      "cell_type": "code",
      "metadata": {
        "id": "rIdM3HpAcDzP",
        "colab_type": "code",
        "colab": {}
      },
      "source": [
        "pickle.dump(model, open( \"catboost_classifier_lr01.pickle\", \"wb\" ), protocol=4 )\n",
        "!gsutil cp catboost_classifier_lr01.pickle gs://data-fraud-detection/catboost_classifier_lr01.pickle"
      ],
      "execution_count": 0,
      "outputs": []
    }
  ]
}